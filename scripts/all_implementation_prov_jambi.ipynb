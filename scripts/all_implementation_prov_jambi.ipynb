{
  "nbformat": 4,
  "nbformat_minor": 0,
  "metadata": {
    "colab": {
      "provenance": [],
      "authorship_tag": "ABX9TyMlKyjsElLhcrzbe6yX92cF",
      "include_colab_link": true
    },
    "kernelspec": {
      "name": "python3",
      "display_name": "Python 3"
    },
    "language_info": {
      "name": "python"
    }
  },
  "cells": [
    {
      "cell_type": "markdown",
      "metadata": {
        "id": "view-in-github",
        "colab_type": "text"
      },
      "source": [
        "<a href=\"https://colab.research.google.com/github/salsaagz/OSMnx-python-for-street-network/blob/main/scripts/all_implementation_prov_jambi.ipynb\" target=\"_parent\"><img src=\"https://colab.research.google.com/assets/colab-badge.svg\" alt=\"Open In Colab\"/></a>"
      ]
    },
    {
      "cell_type": "markdown",
      "source": [
        "## **Connect to Gdrive**"
      ],
      "metadata": {
        "id": "vleDa8tliMr-"
      }
    },
    {
      "cell_type": "code",
      "execution_count": 1,
      "metadata": {
        "colab": {
          "base_uri": "https://localhost:8080/"
        },
        "id": "mYeuXFCxiKOM",
        "outputId": "56fd371b-adfe-4eda-eb29-a5748ca5d1bd"
      },
      "outputs": [
        {
          "output_type": "stream",
          "name": "stdout",
          "text": [
            "Mounted at /content/drive\n"
          ]
        }
      ],
      "source": [
        "from google.colab import drive\n",
        "drive.mount('/content/drive')"
      ]
    },
    {
      "cell_type": "markdown",
      "source": [
        "## **Import OSMnx**"
      ],
      "metadata": {
        "id": "ea6hFGaEjEfo"
      }
    },
    {
      "cell_type": "code",
      "source": [
        "!pip install osmnx\n",
        "import osmnx as ox"
      ],
      "metadata": {
        "colab": {
          "base_uri": "https://localhost:8080/"
        },
        "id": "3_kijwxcjK19",
        "outputId": "19eb736c-3f80-485e-a64f-180640decd36"
      },
      "execution_count": 2,
      "outputs": [
        {
          "output_type": "stream",
          "name": "stdout",
          "text": [
            "Collecting osmnx\n",
            "  Downloading osmnx-1.8.0-py3-none-any.whl (102 kB)\n",
            "\u001b[?25l     \u001b[90m━━━━━━━━━━━━━━━━━━━━━━━━━━━━━━━━━━━━━━━━\u001b[0m \u001b[32m0.0/102.9 kB\u001b[0m \u001b[31m?\u001b[0m eta \u001b[36m-:--:--\u001b[0m\r\u001b[2K     \u001b[91m━━━━━━━━━━━━━━━━━━━━━━━━━━━━━━━━━━━━━━━\u001b[0m\u001b[91m╸\u001b[0m \u001b[32m102.4/102.9 kB\u001b[0m \u001b[31m3.3 MB/s\u001b[0m eta \u001b[36m0:00:01\u001b[0m\r\u001b[2K     \u001b[90m━━━━━━━━━━━━━━━━━━━━━━━━━━━━━━━━━━━━━━━━\u001b[0m \u001b[32m102.9/102.9 kB\u001b[0m \u001b[31m2.6 MB/s\u001b[0m eta \u001b[36m0:00:00\u001b[0m\n",
            "\u001b[?25hRequirement already satisfied: geopandas>=0.12 in /usr/local/lib/python3.10/dist-packages (from osmnx) (0.13.2)\n",
            "Requirement already satisfied: networkx>=2.5 in /usr/local/lib/python3.10/dist-packages (from osmnx) (3.2.1)\n",
            "Requirement already satisfied: numpy>=1.20 in /usr/local/lib/python3.10/dist-packages (from osmnx) (1.23.5)\n",
            "Requirement already satisfied: pandas>=1.1 in /usr/local/lib/python3.10/dist-packages (from osmnx) (1.5.3)\n",
            "Requirement already satisfied: requests>=2.27 in /usr/local/lib/python3.10/dist-packages (from osmnx) (2.31.0)\n",
            "Requirement already satisfied: shapely>=2.0 in /usr/local/lib/python3.10/dist-packages (from osmnx) (2.0.2)\n",
            "Requirement already satisfied: fiona>=1.8.19 in /usr/local/lib/python3.10/dist-packages (from geopandas>=0.12->osmnx) (1.9.5)\n",
            "Requirement already satisfied: packaging in /usr/local/lib/python3.10/dist-packages (from geopandas>=0.12->osmnx) (23.2)\n",
            "Requirement already satisfied: pyproj>=3.0.1 in /usr/local/lib/python3.10/dist-packages (from geopandas>=0.12->osmnx) (3.6.1)\n",
            "Requirement already satisfied: python-dateutil>=2.8.1 in /usr/local/lib/python3.10/dist-packages (from pandas>=1.1->osmnx) (2.8.2)\n",
            "Requirement already satisfied: pytz>=2020.1 in /usr/local/lib/python3.10/dist-packages (from pandas>=1.1->osmnx) (2023.3.post1)\n",
            "Requirement already satisfied: charset-normalizer<4,>=2 in /usr/local/lib/python3.10/dist-packages (from requests>=2.27->osmnx) (3.3.2)\n",
            "Requirement already satisfied: idna<4,>=2.5 in /usr/local/lib/python3.10/dist-packages (from requests>=2.27->osmnx) (3.6)\n",
            "Requirement already satisfied: urllib3<3,>=1.21.1 in /usr/local/lib/python3.10/dist-packages (from requests>=2.27->osmnx) (2.0.7)\n",
            "Requirement already satisfied: certifi>=2017.4.17 in /usr/local/lib/python3.10/dist-packages (from requests>=2.27->osmnx) (2023.11.17)\n",
            "Requirement already satisfied: attrs>=19.2.0 in /usr/local/lib/python3.10/dist-packages (from fiona>=1.8.19->geopandas>=0.12->osmnx) (23.1.0)\n",
            "Requirement already satisfied: click~=8.0 in /usr/local/lib/python3.10/dist-packages (from fiona>=1.8.19->geopandas>=0.12->osmnx) (8.1.7)\n",
            "Requirement already satisfied: click-plugins>=1.0 in /usr/local/lib/python3.10/dist-packages (from fiona>=1.8.19->geopandas>=0.12->osmnx) (1.1.1)\n",
            "Requirement already satisfied: cligj>=0.5 in /usr/local/lib/python3.10/dist-packages (from fiona>=1.8.19->geopandas>=0.12->osmnx) (0.7.2)\n",
            "Requirement already satisfied: six in /usr/local/lib/python3.10/dist-packages (from fiona>=1.8.19->geopandas>=0.12->osmnx) (1.16.0)\n",
            "Requirement already satisfied: setuptools in /usr/local/lib/python3.10/dist-packages (from fiona>=1.8.19->geopandas>=0.12->osmnx) (67.7.2)\n",
            "Installing collected packages: osmnx\n",
            "Successfully installed osmnx-1.8.0\n"
          ]
        }
      ]
    },
    {
      "cell_type": "markdown",
      "source": [
        "## **Provinsi Jambi**"
      ],
      "metadata": {
        "id": "m7JT-saCiQVX"
      }
    },
    {
      "cell_type": "code",
      "source": [
        "places = ['Jambi, Indonesia']\n",
        "ProvJambi = ox.graph.graph_from_place(places, network_type='all', simplify=True,\n",
        "                              retain_all=False, truncate_by_edge=False,\n",
        "                              which_result=None, buffer_dist=None,\n",
        "                              clean_periphery=None, custom_filter=None)\n",
        "# ox.plot_graph(G) #show graph\n",
        "ox.io.save_graph_geopackage(ProvJambi, filepath='/content/drive/MyDrive/Skripsi/OSMnx/all/ProvJambi.gpkg', encoding='utf-8', directed=False)"
      ],
      "metadata": {
        "id": "fPEMbys6ipXX"
      },
      "execution_count": null,
      "outputs": []
    },
    {
      "cell_type": "markdown",
      "source": [
        "## **Kabupaten Kerinci**"
      ],
      "metadata": {
        "id": "zS36oiPCn8pV"
      }
    },
    {
      "cell_type": "code",
      "source": [
        "places = ['Kerinci, Jambi, Indonesia']\n",
        "KabKerinci = ox.graph.graph_from_place(places, network_type='all', simplify=True,\n",
        "                              retain_all=False, truncate_by_edge=False,\n",
        "                              which_result=None, buffer_dist=None,\n",
        "                              clean_periphery=None, custom_filter=None)\n",
        "# ox.plot_graph(G) #show graph\n",
        "ox.io.save_graph_geopackage(KabKerinci, filepath='/content/drive/MyDrive/Skripsi/OSMnx/all/KabKerinci.gpkg', encoding='utf-8', directed=False)"
      ],
      "metadata": {
        "id": "ks3E1PH-oAx5"
      },
      "execution_count": 3,
      "outputs": []
    },
    {
      "cell_type": "markdown",
      "source": [
        "## **Kabupaten Merangin**"
      ],
      "metadata": {
        "id": "XrSSB_QdoBC2"
      }
    },
    {
      "cell_type": "code",
      "source": [
        "places = ['Merangin, Jambi, Indonesia']\n",
        "KabMerangin = ox.graph.graph_from_place(places, network_type='all', simplify=True,\n",
        "                              retain_all=False, truncate_by_edge=False,\n",
        "                              which_result=None, buffer_dist=None,\n",
        "                              clean_periphery=None, custom_filter=None)\n",
        "# ox.plot_graph(G) #show graph\n",
        "ox.io.save_graph_geopackage(KabMerangin, filepath='/content/drive/MyDrive/Skripsi/OSMnx/all/KabMerangin.gpkg', encoding='utf-8', directed=False)"
      ],
      "metadata": {
        "id": "NPOafApOoE2b"
      },
      "execution_count": 4,
      "outputs": []
    },
    {
      "cell_type": "markdown",
      "source": [
        "## **Kabupaten Sarolangun**"
      ],
      "metadata": {
        "id": "wKZ3a7fUoGkI"
      }
    },
    {
      "cell_type": "code",
      "source": [
        "places = ['Sarolangun, Jambi, Indonesia']\n",
        "KabSarolangun = ox.graph.graph_from_place(places, network_type='all', simplify=True,\n",
        "                              retain_all=False, truncate_by_edge=False,\n",
        "                              which_result=None, buffer_dist=None,\n",
        "                              clean_periphery=None, custom_filter=None)\n",
        "# ox.plot_graph(G) #show graph\n",
        "ox.io.save_graph_geopackage(KabSarolangun, filepath='/content/drive/MyDrive/Skripsi/OSMnx/all/KabSarolangun.gpkg', encoding='utf-8', directed=False)"
      ],
      "metadata": {
        "id": "IhtBzzKGoLDO"
      },
      "execution_count": 5,
      "outputs": []
    },
    {
      "cell_type": "markdown",
      "source": [
        "## **Kabupaten Batanghari**"
      ],
      "metadata": {
        "id": "uBYy_NBjoLi-"
      }
    },
    {
      "cell_type": "code",
      "source": [
        "places = ['Batanghari, Jambi, Indonesia']\n",
        "KabBatanghari = ox.graph.graph_from_place(places, network_type='all', simplify=True,\n",
        "                              retain_all=False, truncate_by_edge=False,\n",
        "                              which_result=None, buffer_dist=None,\n",
        "                              clean_periphery=None, custom_filter=None)\n",
        "# ox.plot_graph(G) #show graph\n",
        "ox.io.save_graph_geopackage(KabBatanghari, filepath='/content/drive/MyDrive/Skripsi/OSMnx/all/KabBatanghari.gpkg', encoding='utf-8', directed=False)"
      ],
      "metadata": {
        "id": "lIg8cFijoOg6"
      },
      "execution_count": 6,
      "outputs": []
    },
    {
      "cell_type": "markdown",
      "source": [
        "## **Kabupaten Muaro Jambi**\n",
        "\n"
      ],
      "metadata": {
        "id": "wsDt45YWoPG6"
      }
    },
    {
      "cell_type": "code",
      "source": [
        "places = ['Muaro Jambi, Jambi, Indonesia']\n",
        "KabMuaroJambi = ox.graph.graph_from_place(places, network_type='all', simplify=True,\n",
        "                              retain_all=False, truncate_by_edge=False,\n",
        "                              which_result=None, buffer_dist=None,\n",
        "                              clean_periphery=None, custom_filter=None)\n",
        "# ox.plot_graph(G) #show graph\n",
        "ox.io.save_graph_geopackage(KabMuaroJambi, filepath='/content/drive/MyDrive/Skripsi/OSMnx/all/KabMuaroJambi.gpkg', encoding='utf-8', directed=False)"
      ],
      "metadata": {
        "id": "BUsBfyD-odLZ"
      },
      "execution_count": 7,
      "outputs": []
    },
    {
      "cell_type": "markdown",
      "source": [
        "## **Kabupaten Tanjung Jabung Timur**"
      ],
      "metadata": {
        "id": "ZJIcQRRRodiI"
      }
    },
    {
      "cell_type": "code",
      "source": [
        "places = ['Tanjung Jabung Timur, Jambi, Indonesia']\n",
        "KabTanjabTim = ox.graph.graph_from_place(places, network_type='all', simplify=True,\n",
        "                              retain_all=False, truncate_by_edge=False,\n",
        "                              which_result=None, buffer_dist=None,\n",
        "                              clean_periphery=None, custom_filter=None)\n",
        "# ox.plot_graph(G) #show graph\n",
        "ox.io.save_graph_geopackage(KabTanjabTim, filepath='/content/drive/MyDrive/Skripsi/OSMnx/all/KabTanjabTim.gpkg', encoding='utf-8', directed=False)"
      ],
      "metadata": {
        "id": "zzZflRkNoiV9"
      },
      "execution_count": 8,
      "outputs": []
    },
    {
      "cell_type": "markdown",
      "source": [
        "## **Kabupaten Tanjung Jabung Barat**"
      ],
      "metadata": {
        "id": "i7xvnozIoi16"
      }
    },
    {
      "cell_type": "code",
      "source": [
        "places = ['Tanjung Jabung Barat, Jambi, Indonesia']\n",
        "KabTanjabBar = ox.graph.graph_from_place(places, network_type='all', simplify=True,\n",
        "                              retain_all=False, truncate_by_edge=False,\n",
        "                              which_result=None, buffer_dist=None,\n",
        "                              clean_periphery=None, custom_filter=None)\n",
        "# ox.plot_graph(G) #show graph\n",
        "ox.io.save_graph_geopackage(KabTanjabBar, filepath='/content/drive/MyDrive/Skripsi/OSMnx/all/KabTanjabBar.gpkg', encoding='utf-8', directed=False)"
      ],
      "metadata": {
        "id": "oH_ux-bToqDi"
      },
      "execution_count": 9,
      "outputs": []
    },
    {
      "cell_type": "markdown",
      "source": [
        "## **Kabupaten Tebo**"
      ],
      "metadata": {
        "id": "ACPp42LUnVyx"
      }
    },
    {
      "cell_type": "code",
      "source": [
        "places = ['Tebo, Jambi, Indonesia']\n",
        "KabTebo = ox.graph.graph_from_place(places, network_type='all', simplify=True,\n",
        "                              retain_all=False, truncate_by_edge=False,\n",
        "                              which_result=None, buffer_dist=None,\n",
        "                              clean_periphery=None, custom_filter=None)\n",
        "# ox.plot_graph(G) #show graph\n",
        "ox.io.save_graph_geopackage(KabTebo, filepath='/content/drive/MyDrive/Skripsi/OSMnx/all/KabTebo.gpkg', encoding='utf-8', directed=False)"
      ],
      "metadata": {
        "id": "3VJM6VgTn50F"
      },
      "execution_count": 10,
      "outputs": []
    },
    {
      "cell_type": "markdown",
      "source": [
        "## **Kabupaten Bungo**"
      ],
      "metadata": {
        "id": "iZE5GtjIn6jj"
      }
    },
    {
      "cell_type": "code",
      "source": [
        "places = ['Bungo, Jambi, Indonesia']\n",
        "KabBungo = ox.graph.graph_from_place(places, network_type='all', simplify=True,\n",
        "                              retain_all=False, truncate_by_edge=False,\n",
        "                              which_result=None, buffer_dist=None,\n",
        "                              clean_periphery=None, custom_filter=None)\n",
        "# ox.plot_graph(G) #show graph\n",
        "ox.io.save_graph_geopackage(KabBungo, filepath='/content/drive/MyDrive/Skripsi/OSMnx/all/KabBungo.gpkg', encoding='utf-8', directed=False)"
      ],
      "metadata": {
        "id": "CFvpJp3CovAr"
      },
      "execution_count": 11,
      "outputs": []
    },
    {
      "cell_type": "markdown",
      "source": [
        "## **Kota Jambi**"
      ],
      "metadata": {
        "id": "WeT6OH0uovYQ"
      }
    },
    {
      "cell_type": "code",
      "source": [
        "places = ['Jambi, Jambi, Indonesia']\n",
        "KotaJambi = ox.graph.graph_from_place(places, network_type='all', simplify=True,\n",
        "                              retain_all=False, truncate_by_edge=False,\n",
        "                              which_result=None, buffer_dist=None,\n",
        "                              clean_periphery=None, custom_filter=None)\n",
        "# ox.plot_graph(G) #show graph\n",
        "ox.io.save_graph_geopackage(KotaJambi, filepath='/content/drive/MyDrive/Skripsi/OSMnx/all/KotaJambi.gpkg', encoding='utf-8', directed=False)"
      ],
      "metadata": {
        "id": "izPmWa1eoxZj"
      },
      "execution_count": 12,
      "outputs": []
    },
    {
      "cell_type": "markdown",
      "source": [
        "## **Kota Sungai Penuh**"
      ],
      "metadata": {
        "id": "TibEiq53oxsU"
      }
    },
    {
      "cell_type": "code",
      "source": [
        "places = ['Sungai Penuh, Jambi, Indonesia']\n",
        "KotaSungaiPenuh = ox.graph.graph_from_place(places, network_type='all', simplify=True,\n",
        "                              retain_all=False, truncate_by_edge=False,\n",
        "                              which_result=None, buffer_dist=None,\n",
        "                              clean_periphery=None, custom_filter=None)\n",
        "# ox.plot_graph(G) #show graph\n",
        "ox.io.save_graph_geopackage(KotaSungaiPenuh, filepath='/content/drive/MyDrive/Skripsi/OSMnx/all/KotaSungaiPenuh.gpkg', encoding='utf-8', directed=False)"
      ],
      "metadata": {
        "id": "GCq4Ia2Yo0gR"
      },
      "execution_count": 13,
      "outputs": []
    }
  ]
}